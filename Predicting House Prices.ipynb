{
 "cells": [
  {
   "cell_type": "markdown",
   "id": "8d3503e7",
   "metadata": {},
   "source": [
    "# Predicting House Prices"
   ]
  },
  {
   "cell_type": "markdown",
   "id": "d3f19571",
   "metadata": {},
   "source": [
    "## Introduction"
   ]
  },
  {
   "cell_type": "markdown",
   "id": "9d39c317",
   "metadata": {},
   "source": [
    "In this project, I use the [Kaggle dataset](https://www.kaggle.com/c/house-prices-advanced-regression-techniques/overview/description). This dataset has been developed in order to examine the factors that influence house prices. "
   ]
  },
  {
   "cell_type": "code",
   "execution_count": 1,
   "id": "ae5c7f01",
   "metadata": {},
   "outputs": [],
   "source": [
    "#Import the packages\n",
    "import pandas as pd\n",
    "from sklearn.linear_model import LinearRegression\n",
    "from sklearn.metrics import mean_squared_error\n",
    "import seaborn as sns\n",
    "import numpy as np\n",
    "import matplotlib.pyplot as plt\n",
    "from sklearn.model_selection import KFold\n",
    "from sklearn.linear_model import LinearRegression\n",
    "from sklearn.neighbors import KNeighborsClassifier\n",
    "from sklearn.ensemble import RandomForestRegressor\n",
    "from sklearn.model_selection import GridSearchCV\n",
    "from sklearn.feature_selection import RFECV\n",
    "import warnings\n",
    "warnings.filterwarnings(\"ignore\")"
   ]
  },
  {
   "cell_type": "code",
   "execution_count": 2,
   "id": "55cd7bd1",
   "metadata": {},
   "outputs": [],
   "source": [
    "#Read in the data\n",
    "train=pd.read_csv('train.csv')\n",
    "holdout=pd.read_csv('test.csv')"
   ]
  },
  {
   "cell_type": "code",
   "execution_count": 3,
   "id": "61a5c8ab",
   "metadata": {},
   "outputs": [
    {
     "data": {
      "text/html": [
       "<div>\n",
       "<style scoped>\n",
       "    .dataframe tbody tr th:only-of-type {\n",
       "        vertical-align: middle;\n",
       "    }\n",
       "\n",
       "    .dataframe tbody tr th {\n",
       "        vertical-align: top;\n",
       "    }\n",
       "\n",
       "    .dataframe thead th {\n",
       "        text-align: right;\n",
       "    }\n",
       "</style>\n",
       "<table border=\"1\" class=\"dataframe\">\n",
       "  <thead>\n",
       "    <tr style=\"text-align: right;\">\n",
       "      <th></th>\n",
       "      <th>Id</th>\n",
       "      <th>MSSubClass</th>\n",
       "      <th>MSZoning</th>\n",
       "      <th>LotFrontage</th>\n",
       "      <th>LotArea</th>\n",
       "      <th>Street</th>\n",
       "      <th>Alley</th>\n",
       "      <th>LotShape</th>\n",
       "      <th>LandContour</th>\n",
       "      <th>Utilities</th>\n",
       "      <th>...</th>\n",
       "      <th>PoolArea</th>\n",
       "      <th>PoolQC</th>\n",
       "      <th>Fence</th>\n",
       "      <th>MiscFeature</th>\n",
       "      <th>MiscVal</th>\n",
       "      <th>MoSold</th>\n",
       "      <th>YrSold</th>\n",
       "      <th>SaleType</th>\n",
       "      <th>SaleCondition</th>\n",
       "      <th>SalePrice</th>\n",
       "    </tr>\n",
       "  </thead>\n",
       "  <tbody>\n",
       "    <tr>\n",
       "      <th>0</th>\n",
       "      <td>1</td>\n",
       "      <td>60</td>\n",
       "      <td>RL</td>\n",
       "      <td>65.0</td>\n",
       "      <td>8450</td>\n",
       "      <td>Pave</td>\n",
       "      <td>NaN</td>\n",
       "      <td>Reg</td>\n",
       "      <td>Lvl</td>\n",
       "      <td>AllPub</td>\n",
       "      <td>...</td>\n",
       "      <td>0</td>\n",
       "      <td>NaN</td>\n",
       "      <td>NaN</td>\n",
       "      <td>NaN</td>\n",
       "      <td>0</td>\n",
       "      <td>2</td>\n",
       "      <td>2008</td>\n",
       "      <td>WD</td>\n",
       "      <td>Normal</td>\n",
       "      <td>208500</td>\n",
       "    </tr>\n",
       "    <tr>\n",
       "      <th>1</th>\n",
       "      <td>2</td>\n",
       "      <td>20</td>\n",
       "      <td>RL</td>\n",
       "      <td>80.0</td>\n",
       "      <td>9600</td>\n",
       "      <td>Pave</td>\n",
       "      <td>NaN</td>\n",
       "      <td>Reg</td>\n",
       "      <td>Lvl</td>\n",
       "      <td>AllPub</td>\n",
       "      <td>...</td>\n",
       "      <td>0</td>\n",
       "      <td>NaN</td>\n",
       "      <td>NaN</td>\n",
       "      <td>NaN</td>\n",
       "      <td>0</td>\n",
       "      <td>5</td>\n",
       "      <td>2007</td>\n",
       "      <td>WD</td>\n",
       "      <td>Normal</td>\n",
       "      <td>181500</td>\n",
       "    </tr>\n",
       "    <tr>\n",
       "      <th>2</th>\n",
       "      <td>3</td>\n",
       "      <td>60</td>\n",
       "      <td>RL</td>\n",
       "      <td>68.0</td>\n",
       "      <td>11250</td>\n",
       "      <td>Pave</td>\n",
       "      <td>NaN</td>\n",
       "      <td>IR1</td>\n",
       "      <td>Lvl</td>\n",
       "      <td>AllPub</td>\n",
       "      <td>...</td>\n",
       "      <td>0</td>\n",
       "      <td>NaN</td>\n",
       "      <td>NaN</td>\n",
       "      <td>NaN</td>\n",
       "      <td>0</td>\n",
       "      <td>9</td>\n",
       "      <td>2008</td>\n",
       "      <td>WD</td>\n",
       "      <td>Normal</td>\n",
       "      <td>223500</td>\n",
       "    </tr>\n",
       "    <tr>\n",
       "      <th>3</th>\n",
       "      <td>4</td>\n",
       "      <td>70</td>\n",
       "      <td>RL</td>\n",
       "      <td>60.0</td>\n",
       "      <td>9550</td>\n",
       "      <td>Pave</td>\n",
       "      <td>NaN</td>\n",
       "      <td>IR1</td>\n",
       "      <td>Lvl</td>\n",
       "      <td>AllPub</td>\n",
       "      <td>...</td>\n",
       "      <td>0</td>\n",
       "      <td>NaN</td>\n",
       "      <td>NaN</td>\n",
       "      <td>NaN</td>\n",
       "      <td>0</td>\n",
       "      <td>2</td>\n",
       "      <td>2006</td>\n",
       "      <td>WD</td>\n",
       "      <td>Abnorml</td>\n",
       "      <td>140000</td>\n",
       "    </tr>\n",
       "    <tr>\n",
       "      <th>4</th>\n",
       "      <td>5</td>\n",
       "      <td>60</td>\n",
       "      <td>RL</td>\n",
       "      <td>84.0</td>\n",
       "      <td>14260</td>\n",
       "      <td>Pave</td>\n",
       "      <td>NaN</td>\n",
       "      <td>IR1</td>\n",
       "      <td>Lvl</td>\n",
       "      <td>AllPub</td>\n",
       "      <td>...</td>\n",
       "      <td>0</td>\n",
       "      <td>NaN</td>\n",
       "      <td>NaN</td>\n",
       "      <td>NaN</td>\n",
       "      <td>0</td>\n",
       "      <td>12</td>\n",
       "      <td>2008</td>\n",
       "      <td>WD</td>\n",
       "      <td>Normal</td>\n",
       "      <td>250000</td>\n",
       "    </tr>\n",
       "  </tbody>\n",
       "</table>\n",
       "<p>5 rows × 81 columns</p>\n",
       "</div>"
      ],
      "text/plain": [
       "   Id  MSSubClass MSZoning  LotFrontage  LotArea Street Alley LotShape  \\\n",
       "0   1          60       RL         65.0     8450   Pave   NaN      Reg   \n",
       "1   2          20       RL         80.0     9600   Pave   NaN      Reg   \n",
       "2   3          60       RL         68.0    11250   Pave   NaN      IR1   \n",
       "3   4          70       RL         60.0     9550   Pave   NaN      IR1   \n",
       "4   5          60       RL         84.0    14260   Pave   NaN      IR1   \n",
       "\n",
       "  LandContour Utilities  ... PoolArea PoolQC Fence MiscFeature MiscVal MoSold  \\\n",
       "0         Lvl    AllPub  ...        0    NaN   NaN         NaN       0      2   \n",
       "1         Lvl    AllPub  ...        0    NaN   NaN         NaN       0      5   \n",
       "2         Lvl    AllPub  ...        0    NaN   NaN         NaN       0      9   \n",
       "3         Lvl    AllPub  ...        0    NaN   NaN         NaN       0      2   \n",
       "4         Lvl    AllPub  ...        0    NaN   NaN         NaN       0     12   \n",
       "\n",
       "  YrSold  SaleType  SaleCondition  SalePrice  \n",
       "0   2008        WD         Normal     208500  \n",
       "1   2007        WD         Normal     181500  \n",
       "2   2008        WD         Normal     223500  \n",
       "3   2006        WD        Abnorml     140000  \n",
       "4   2008        WD         Normal     250000  \n",
       "\n",
       "[5 rows x 81 columns]"
      ]
     },
     "execution_count": 3,
     "metadata": {},
     "output_type": "execute_result"
    }
   ],
   "source": [
    "#Exploring the first few rows of the data\n",
    "train.head()"
   ]
  },
  {
   "cell_type": "code",
   "execution_count": 4,
   "id": "d03db235",
   "metadata": {},
   "outputs": [
    {
     "name": "stdout",
     "output_type": "stream",
     "text": [
      "<class 'pandas.core.frame.DataFrame'>\n",
      "RangeIndex: 1460 entries, 0 to 1459\n",
      "Data columns (total 81 columns):\n",
      " #   Column         Non-Null Count  Dtype  \n",
      "---  ------         --------------  -----  \n",
      " 0   Id             1460 non-null   int64  \n",
      " 1   MSSubClass     1460 non-null   int64  \n",
      " 2   MSZoning       1460 non-null   object \n",
      " 3   LotFrontage    1201 non-null   float64\n",
      " 4   LotArea        1460 non-null   int64  \n",
      " 5   Street         1460 non-null   object \n",
      " 6   Alley          91 non-null     object \n",
      " 7   LotShape       1460 non-null   object \n",
      " 8   LandContour    1460 non-null   object \n",
      " 9   Utilities      1460 non-null   object \n",
      " 10  LotConfig      1460 non-null   object \n",
      " 11  LandSlope      1460 non-null   object \n",
      " 12  Neighborhood   1460 non-null   object \n",
      " 13  Condition1     1460 non-null   object \n",
      " 14  Condition2     1460 non-null   object \n",
      " 15  BldgType       1460 non-null   object \n",
      " 16  HouseStyle     1460 non-null   object \n",
      " 17  OverallQual    1460 non-null   int64  \n",
      " 18  OverallCond    1460 non-null   int64  \n",
      " 19  YearBuilt      1460 non-null   int64  \n",
      " 20  YearRemodAdd   1460 non-null   int64  \n",
      " 21  RoofStyle      1460 non-null   object \n",
      " 22  RoofMatl       1460 non-null   object \n",
      " 23  Exterior1st    1460 non-null   object \n",
      " 24  Exterior2nd    1460 non-null   object \n",
      " 25  MasVnrType     1452 non-null   object \n",
      " 26  MasVnrArea     1452 non-null   float64\n",
      " 27  ExterQual      1460 non-null   object \n",
      " 28  ExterCond      1460 non-null   object \n",
      " 29  Foundation     1460 non-null   object \n",
      " 30  BsmtQual       1423 non-null   object \n",
      " 31  BsmtCond       1423 non-null   object \n",
      " 32  BsmtExposure   1422 non-null   object \n",
      " 33  BsmtFinType1   1423 non-null   object \n",
      " 34  BsmtFinSF1     1460 non-null   int64  \n",
      " 35  BsmtFinType2   1422 non-null   object \n",
      " 36  BsmtFinSF2     1460 non-null   int64  \n",
      " 37  BsmtUnfSF      1460 non-null   int64  \n",
      " 38  TotalBsmtSF    1460 non-null   int64  \n",
      " 39  Heating        1460 non-null   object \n",
      " 40  HeatingQC      1460 non-null   object \n",
      " 41  CentralAir     1460 non-null   object \n",
      " 42  Electrical     1459 non-null   object \n",
      " 43  1stFlrSF       1460 non-null   int64  \n",
      " 44  2ndFlrSF       1460 non-null   int64  \n",
      " 45  LowQualFinSF   1460 non-null   int64  \n",
      " 46  GrLivArea      1460 non-null   int64  \n",
      " 47  BsmtFullBath   1460 non-null   int64  \n",
      " 48  BsmtHalfBath   1460 non-null   int64  \n",
      " 49  FullBath       1460 non-null   int64  \n",
      " 50  HalfBath       1460 non-null   int64  \n",
      " 51  BedroomAbvGr   1460 non-null   int64  \n",
      " 52  KitchenAbvGr   1460 non-null   int64  \n",
      " 53  KitchenQual    1460 non-null   object \n",
      " 54  TotRmsAbvGrd   1460 non-null   int64  \n",
      " 55  Functional     1460 non-null   object \n",
      " 56  Fireplaces     1460 non-null   int64  \n",
      " 57  FireplaceQu    770 non-null    object \n",
      " 58  GarageType     1379 non-null   object \n",
      " 59  GarageYrBlt    1379 non-null   float64\n",
      " 60  GarageFinish   1379 non-null   object \n",
      " 61  GarageCars     1460 non-null   int64  \n",
      " 62  GarageArea     1460 non-null   int64  \n",
      " 63  GarageQual     1379 non-null   object \n",
      " 64  GarageCond     1379 non-null   object \n",
      " 65  PavedDrive     1460 non-null   object \n",
      " 66  WoodDeckSF     1460 non-null   int64  \n",
      " 67  OpenPorchSF    1460 non-null   int64  \n",
      " 68  EnclosedPorch  1460 non-null   int64  \n",
      " 69  3SsnPorch      1460 non-null   int64  \n",
      " 70  ScreenPorch    1460 non-null   int64  \n",
      " 71  PoolArea       1460 non-null   int64  \n",
      " 72  PoolQC         7 non-null      object \n",
      " 73  Fence          281 non-null    object \n",
      " 74  MiscFeature    54 non-null     object \n",
      " 75  MiscVal        1460 non-null   int64  \n",
      " 76  MoSold         1460 non-null   int64  \n",
      " 77  YrSold         1460 non-null   int64  \n",
      " 78  SaleType       1460 non-null   object \n",
      " 79  SaleCondition  1460 non-null   object \n",
      " 80  SalePrice      1460 non-null   int64  \n",
      "dtypes: float64(3), int64(35), object(43)\n",
      "memory usage: 924.0+ KB\n"
     ]
    }
   ],
   "source": [
    "train.info()"
   ]
  },
  {
   "cell_type": "markdown",
   "id": "efbddb62",
   "metadata": {},
   "source": [
    "The data contains 1460 rows and 80 columns. The columns' types are either numeric or object."
   ]
  },
  {
   "cell_type": "code",
   "execution_count": 5,
   "id": "523453c5",
   "metadata": {},
   "outputs": [
    {
     "data": {
      "text/plain": [
       "Index(['Id', 'MSSubClass', 'MSZoning', 'LotFrontage', 'LotArea', 'Street',\n",
       "       'Alley', 'LotShape', 'LandContour', 'Utilities', 'LotConfig',\n",
       "       'LandSlope', 'Neighborhood', 'Condition1', 'Condition2', 'BldgType',\n",
       "       'HouseStyle', 'OverallQual', 'OverallCond', 'YearBuilt', 'YearRemodAdd',\n",
       "       'RoofStyle', 'RoofMatl', 'Exterior1st', 'Exterior2nd', 'MasVnrType',\n",
       "       'MasVnrArea', 'ExterQual', 'ExterCond', 'Foundation', 'BsmtQual',\n",
       "       'BsmtCond', 'BsmtExposure', 'BsmtFinType1', 'BsmtFinSF1',\n",
       "       'BsmtFinType2', 'BsmtFinSF2', 'BsmtUnfSF', 'TotalBsmtSF', 'Heating',\n",
       "       'HeatingQC', 'CentralAir', 'Electrical', '1stFlrSF', '2ndFlrSF',\n",
       "       'LowQualFinSF', 'GrLivArea', 'BsmtFullBath', 'BsmtHalfBath', 'FullBath',\n",
       "       'HalfBath', 'BedroomAbvGr', 'KitchenAbvGr', 'KitchenQual',\n",
       "       'TotRmsAbvGrd', 'Functional', 'Fireplaces', 'FireplaceQu', 'GarageType',\n",
       "       'GarageYrBlt', 'GarageFinish', 'GarageCars', 'GarageArea', 'GarageQual',\n",
       "       'GarageCond', 'PavedDrive', 'WoodDeckSF', 'OpenPorchSF',\n",
       "       'EnclosedPorch', '3SsnPorch', 'ScreenPorch', 'PoolArea', 'PoolQC',\n",
       "       'Fence', 'MiscFeature', 'MiscVal', 'MoSold', 'YrSold', 'SaleType',\n",
       "       'SaleCondition', 'SalePrice'],\n",
       "      dtype='object')"
      ]
     },
     "execution_count": 5,
     "metadata": {},
     "output_type": "execute_result"
    }
   ],
   "source": [
    "#Checking the columns of the data\n",
    "train.columns"
   ]
  },
  {
   "cell_type": "code",
   "execution_count": 6,
   "id": "1dd00543",
   "metadata": {},
   "outputs": [
    {
     "data": {
      "image/png": "[encoded data removed]",
      "text/plain": [
       "<Figure size 792x648 with 2 Axes>"
      ]
     },
     "metadata": {},
     "output_type": "display_data"
    }
   ],
   "source": [
    "#Plotting correlation between features and target columns\n",
    "def plot_correlation_heatmap(df):\n",
    "    corr = df.corr()\n",
    "    \n",
    "    sns.set(style=\"white\")\n",
    "    mask = np.zeros_like(corr, dtype=np.bool)\n",
    "    mask[np.triu_indices_from(mask)] = True\n",
    "\n",
    "    f, ax = plt.subplots(figsize=(11, 9))\n",
    "    cmap = sns.diverging_palette(220, 10, as_cmap=True)\n",
    "\n",
    "\n",
    "    sns.heatmap(corr, mask=mask, cmap=cmap, vmax=.3, center=0,\n",
    "            square=True, linewidths=.5, cbar_kws={\"shrink\": .5})\n",
    "    plt.show()\n",
    "    \n",
    "plot_correlation_heatmap(train)"
   ]
  },
  {
   "cell_type": "markdown",
   "id": "261da604",
   "metadata": {},
   "source": [
    "## Transforming features and dealing with missing values"
   ]
  },
  {
   "cell_type": "markdown",
   "id": "c2739c61",
   "metadata": {},
   "source": [
    "First, I concat the train and holdout data frame so that I will have to transform columns and rows with missing values once. After all the transformation and cleaning, I will split the dataframe into train and holdout again."
   ]
  },
  {
   "cell_type": "code",
   "execution_count": 7,
   "id": "93a12d6b",
   "metadata": {},
   "outputs": [],
   "source": [
    "y_train = train['SalePrice']\n",
    "holdout_id = holdout['Id']\n",
    "all_data = pd.concat([train, holdout], axis=0, sort=False)\n"
   ]
  },
  {
   "cell_type": "markdown",
   "id": "771f2b7c",
   "metadata": {},
   "source": [
    "The transform_features function will create two columns:\n",
    "\n",
    "- 'Years Before Sale', which is the difference between 'YrSold' and 'YearBuilt'\n",
    "- 'Years Since Remod', which is the difference between 'YrSold' and 'YearRemodAdd'\n",
    "\n",
    "I will then remove the columns: 'YrSold','YearBuilt' and 'YearRemodAdd'."
   ]
  },
  {
   "cell_type": "code",
   "execution_count": 8,
   "id": "65ff4f59",
   "metadata": {},
   "outputs": [],
   "source": [
    "def transform_features(df):\n",
    "    saleprice=df['SalePrice']\n",
    "    df=df.drop(['SalePrice'],axis=1)\n",
    "    years_sold = df['YrSold'] - df['YearBuilt']\n",
    "    years_since_remod = df['YrSold'] - df['YearRemodAdd']\n",
    "    df['Years Before Sale'] = years_sold\n",
    "    df['Years Since Remod'] = years_since_remod\n",
    "    df=df.drop(['YrSold','YearBuilt','YearRemodAdd'],axis=1)\n",
    "    df['SalePrice'] = saleprice\n",
    "    return df"
   ]
  },
  {
   "cell_type": "markdown",
   "id": "75254924",
   "metadata": {},
   "source": [
    "The process_missing function counts the number of null values for each column and remove columns with more than 5% missing values."
   ]
  },
  {
   "cell_type": "code",
   "execution_count": 9,
   "id": "cfe01f1b",
   "metadata": {},
   "outputs": [],
   "source": [
    "def process_missing(df,threshold):\n",
    "    saleprice=df['SalePrice']\n",
    "    missing_values=df.isnull().sum()\n",
    "    missing_cols=missing_values[missing_values/len(df)>threshold].index\n",
    "    df=df.drop(missing_cols,axis=1)\n",
    "    df['SalePrice'] = saleprice\n",
    "    return df"
   ]
  },
  {
   "cell_type": "code",
   "execution_count": 10,
   "id": "8455d7e0",
   "metadata": {},
   "outputs": [
    {
     "data": {
      "text/plain": [
       "Index(['Id', 'MSSubClass', 'MSZoning', 'LotFrontage', 'LotArea', 'Street',\n",
       "       'Alley', 'LotShape', 'LandContour', 'Utilities', 'LotConfig',\n",
       "       'LandSlope', 'Neighborhood', 'Condition1', 'Condition2', 'BldgType',\n",
       "       'HouseStyle', 'OverallQual', 'OverallCond', 'YearBuilt', 'YearRemodAdd',\n",
       "       'RoofStyle', 'RoofMatl', 'Exterior1st', 'Exterior2nd', 'MasVnrType',\n",
       "       'MasVnrArea', 'ExterQual', 'ExterCond', 'Foundation', 'BsmtQual',\n",
       "       'BsmtCond', 'BsmtExposure', 'BsmtFinType1', 'BsmtFinSF1',\n",
       "       'BsmtFinType2', 'BsmtFinSF2', 'BsmtUnfSF', 'TotalBsmtSF', 'Heating',\n",
       "       'HeatingQC', 'CentralAir', 'Electrical', '1stFlrSF', '2ndFlrSF',\n",
       "       'LowQualFinSF', 'GrLivArea', 'BsmtFullBath', 'BsmtHalfBath', 'FullBath',\n",
       "       'HalfBath', 'BedroomAbvGr', 'KitchenAbvGr', 'KitchenQual',\n",
       "       'TotRmsAbvGrd', 'Functional', 'Fireplaces', 'FireplaceQu', 'GarageType',\n",
       "       'GarageYrBlt', 'GarageFinish', 'GarageCars', 'GarageArea', 'GarageQual',\n",
       "       'GarageCond', 'PavedDrive', 'WoodDeckSF', 'OpenPorchSF',\n",
       "       'EnclosedPorch', '3SsnPorch', 'ScreenPorch', 'PoolArea', 'PoolQC',\n",
       "       'Fence', 'MiscFeature', 'MiscVal', 'MoSold', 'YrSold', 'SaleType',\n",
       "       'SaleCondition', 'SalePrice'],\n",
       "      dtype='object')"
      ]
     },
     "execution_count": 10,
     "metadata": {},
     "output_type": "execute_result"
    }
   ],
   "source": [
    "all_data.columns"
   ]
  },
  {
   "cell_type": "markdown",
   "id": "37be96ab",
   "metadata": {},
   "source": [
    "The fill_na function does the following:\n",
    "\n",
    "- For numeric columns, the function fills in 0. \n",
    "- For object columns, the function fills in the mode of the columns."
   ]
  },
  {
   "cell_type": "code",
   "execution_count": 11,
   "id": "8bec7310",
   "metadata": {},
   "outputs": [],
   "source": [
    "def fill_na(df):\n",
    "    saleprice=df['SalePrice']\n",
    "    df=df.drop(['SalePrice'],axis=1)\n",
    "    numeric_cols=df.select_dtypes(include=['integer','float']).columns\n",
    "    for col in numeric_cols:\n",
    "        df[col]=df[col].fillna(0)\n",
    "    object_cols=df.select_dtypes(include=['object']).columns\n",
    "    for col in object_cols:\n",
    "        df[col]=df[col].fillna(df[col].mode()[0])\n",
    "    df['SalePrice'] = saleprice   \n",
    "    return df"
   ]
  },
  {
   "cell_type": "markdown",
   "id": "4a1cf0b7",
   "metadata": {},
   "source": [
    "The correlation function calculates the correlation between the feature columns and the target columns. Then it removes columns with low correlations."
   ]
  },
  {
   "cell_type": "code",
   "execution_count": 12,
   "id": "a7873f21",
   "metadata": {},
   "outputs": [],
   "source": [
    "def correlation(df,threshold):\n",
    "    numeric_cols=df.select_dtypes(include=['integer','float'])\n",
    "    numeric_cols_corr=numeric_cols[numeric_cols.columns[1:-1]].apply(lambda x: abs(x.corr(numeric_cols['SalePrice'])))\n",
    "    numeric_cols_low_corr=numeric_cols_corr[numeric_cols_corr<threshold].index\n",
    "    df=df.drop(numeric_cols_low_corr,axis=1)\n",
    "    df=df.drop(['Id'],axis=1)\n",
    "    return df"
   ]
  },
  {
   "cell_type": "markdown",
   "id": "38968b18",
   "metadata": {},
   "source": [
    "The collinearity function detects high collinearity between features and remove those columns."
   ]
  },
  {
   "cell_type": "code",
   "execution_count": 13,
   "id": "7787a949",
   "metadata": {},
   "outputs": [],
   "source": [
    "def collinearity(df, threshold):\n",
    "    saleprice=df['SalePrice']\n",
    "    df=df.drop(['SalePrice'],axis=1)\n",
    "    col_corr = set() # Set of all the names of deleted columns\n",
    "    corr_matrix = df.corr()\n",
    "    for i in range(len(corr_matrix.columns)):\n",
    "        for j in range(i):\n",
    "            if (corr_matrix.iloc[i, j] >= threshold) and (corr_matrix.columns[j] not in col_corr):\n",
    "                colname = corr_matrix.columns[i] # getting the name of column\n",
    "                col_corr.add(colname)\n",
    "                if colname in df.columns:\n",
    "                    del df[colname] # deleting the column from the dataset\n",
    "    df['SalePrice']=saleprice\n",
    "    return df"
   ]
  },
  {
   "cell_type": "markdown",
   "id": "8689b46e",
   "metadata": {},
   "source": [
    "For categorical columns, I create dummy columns to transform them into numeric columns."
   ]
  },
  {
   "cell_type": "code",
   "execution_count": 14,
   "id": "ae43cacc",
   "metadata": {},
   "outputs": [],
   "source": [
    "def dummy_cols(df):\n",
    "    cat_columns=df.select_dtypes(exclude=['integer','float']).columns\n",
    "    dummy_df = pd.get_dummies(df[cat_columns])\n",
    "    df = pd.concat([df, dummy_df], axis=1)\n",
    "    df = df.drop(cat_columns, axis=1)\n",
    "    return df"
   ]
  },
  {
   "cell_type": "markdown",
   "id": "ecf7e16c",
   "metadata": {},
   "source": [
    "def correlation(df,threshold):\n",
    "    corr=df.corr()['SalePrice'][:-1].abs()\n",
    "    cols=corr[corr<threshold].index\n",
    "    df=df.drop(cols,axis=1)\n",
    "    return df"
   ]
  },
  {
   "cell_type": "code",
   "execution_count": 15,
   "id": "b1874078",
   "metadata": {},
   "outputs": [],
   "source": [
    "all_data=transform_features(all_data)\n",
    "all_data=process_missing(all_data,0.05)\n",
    "all_data=fill_na(all_data)\n",
    "all_data=dummy_cols(all_data)\n",
    "all_data=correlation(all_data,0.3)\n",
    "all_data=collinearity(all_data,0.3)\n"
   ]
  },
  {
   "cell_type": "code",
   "execution_count": 16,
   "id": "7361763e",
   "metadata": {},
   "outputs": [
    {
     "data": {
      "text/plain": [
       "Index(['OverallQual', 'BsmtFinSF1', '2ndFlrSF', 'WoodDeckSF', 'OpenPorchSF',\n",
       "       'Years Before Sale', 'Neighborhood_NoRidge', 'MasVnrType_Stone',\n",
       "       'Foundation_CBlock', 'BsmtExposure_No', 'SalePrice'],\n",
       "      dtype='object')"
      ]
     },
     "execution_count": 16,
     "metadata": {},
     "output_type": "execute_result"
    }
   ],
   "source": [
    "all_data.columns"
   ]
  },
  {
   "cell_type": "markdown",
   "id": "e6796532",
   "metadata": {},
   "source": [
    "## Testing the models"
   ]
  },
  {
   "cell_type": "code",
   "execution_count": 17,
   "id": "9fa7d3aa",
   "metadata": {},
   "outputs": [],
   "source": [
    "x_train =all_data[:len(y_train)]\n",
    "x_test = all_data[len(y_train):]"
   ]
  },
  {
   "cell_type": "markdown",
   "id": "138fab79",
   "metadata": {},
   "source": [
    "The select_features function uses recursive feature elimination and the random forests algorithm to find the best-performing set of features."
   ]
  },
  {
   "cell_type": "code",
   "execution_count": 18,
   "id": "464fd274",
   "metadata": {},
   "outputs": [
    {
     "name": "stdout",
     "output_type": "stream",
     "text": [
      "Best Columns \n",
      "------------\n",
      "['OverallQual', 'BsmtFinSF1', '2ndFlrSF', 'WoodDeckSF', 'OpenPorchSF', 'Years Before Sale', 'Neighborhood_NoRidge', 'MasVnrType_Stone', 'Foundation_CBlock', 'BsmtExposure_No']\n",
      "\n"
     ]
    }
   ],
   "source": [
    "def select_features(x_train,y_train):\n",
    "    # Remove non-numeric columns, columns that have null values\n",
    "    x_train = x_train.select_dtypes([np.number]).dropna(axis=1)\n",
    "    all_X = x_train.drop([\"SalePrice\"],axis=1)\n",
    "    all_y = y_train\n",
    "    \n",
    "    clf = RandomForestRegressor(random_state=1)\n",
    "    selector = RFECV(clf,cv=10)\n",
    "    selector.fit(all_X,all_y)\n",
    "    \n",
    "    best_columns = list(all_X.columns[selector.support_])\n",
    "    print(\"Best Columns \\n\"+\"-\"*12+\"\\n{}\\n\".format(best_columns))\n",
    "    \n",
    "    return best_columns\n",
    "\n",
    "cols = select_features(x_train,y_train)"
   ]
  },
  {
   "cell_type": "code",
   "execution_count": 19,
   "id": "170b5890",
   "metadata": {},
   "outputs": [
    {
     "data": {
      "text/plain": [
       "['OverallQual',\n",
       " 'BsmtFinSF1',\n",
       " '2ndFlrSF',\n",
       " 'WoodDeckSF',\n",
       " 'OpenPorchSF',\n",
       " 'Years Before Sale',\n",
       " 'Neighborhood_NoRidge',\n",
       " 'MasVnrType_Stone',\n",
       " 'Foundation_CBlock',\n",
       " 'BsmtExposure_No']"
      ]
     },
     "execution_count": 19,
     "metadata": {},
     "output_type": "execute_result"
    }
   ],
   "source": [
    "#Checking the best features\n",
    "cols"
   ]
  },
  {
   "cell_type": "markdown",
   "id": "6115f119",
   "metadata": {},
   "source": [
    "I will test the following models using grid search: Linear Regression, K-Neighbors Classifier and Random Forest Regressor. The model, along with its parameters, with the highest score will be chosen."
   ]
  },
  {
   "cell_type": "code",
   "execution_count": 20,
   "id": "3c9c9066",
   "metadata": {},
   "outputs": [],
   "source": [
    "def select_model(df,features):\n",
    "    saleprice=df['SalePrice']\n",
    "    all_X = df.drop(['SalePrice'],axis=1)\n",
    "    all_y = saleprice\n",
    "\n",
    "    # List of dictionaries, each containing a model name,\n",
    "    # it's estimator and a dict of hyperparameters\n",
    "    models = [\n",
    "        {\n",
    "            \"name\": \"LinearRegression\",\n",
    "            \"estimator\": LinearRegression(),\n",
    "            \"hyperparameters\":\n",
    "                {\n",
    "                    'fit_intercept':['True', 'False'], \n",
    "                    'normalize':['True', 'False'], \n",
    "                    'copy_X':['True', 'False']\n",
    "                }\n",
    "        },\n",
    "        {\n",
    "            \"name\": \"KNeighborsClassifier\",\n",
    "            \"estimator\": KNeighborsClassifier(),\n",
    "            \"hyperparameters\":\n",
    "                {\n",
    "                    \"n_neighbors\": range(1,20,2),\n",
    "                    \"weights\": [\"distance\", \"uniform\"],\n",
    "                    \"algorithm\": [\"ball_tree\", \"kd_tree\", \"brute\"],\n",
    "                    \"p\": [1,2]\n",
    "                }\n",
    "        },\n",
    "        {\n",
    "            \"name\": \"RandomForestRegressor\",\n",
    "            \"estimator\": RandomForestRegressor(random_state=1),\n",
    "            \"hyperparameters\":\n",
    "                {\n",
    "                    \"n_estimators\": [10,20,30],\n",
    "                    \"max_features\"      : [\"auto\", \"sqrt\", \"log2\"],\n",
    "                    \"min_samples_split\" : [2,4,8],\n",
    "                    \"bootstrap\": [True, False]\n",
    "\n",
    "                }\n",
    "        }\n",
    "    ]\n",
    "\n",
    "    for model in models:\n",
    "        print(model['name'])\n",
    "        print('-'*len(model['name']))\n",
    "\n",
    "        grid = GridSearchCV(model[\"estimator\"],\n",
    "                            param_grid=model[\"hyperparameters\"],\n",
    "                            cv=10)\n",
    "        grid.fit(all_X,all_y)\n",
    "        model[\"best_params\"] = grid.best_params_\n",
    "        model[\"best_score\"] = grid.best_score_\n",
    "        model[\"best_model\"] = grid.best_estimator_\n",
    "\n",
    "        print(\"Best Score: {}\".format(model[\"best_score\"]))\n",
    "        print(\"Best Parameters: {}\\n\".format(model[\"best_params\"]))\n",
    "\n",
    "    return models\n",
    "\n"
   ]
  },
  {
   "cell_type": "code",
   "execution_count": 21,
   "id": "49a9d1d5",
   "metadata": {},
   "outputs": [
    {
     "name": "stdout",
     "output_type": "stream",
     "text": [
      "LinearRegression\n",
      "----------------\n",
      "Best Score: 0.7187304111101172\n",
      "Best Parameters: {'copy_X': 'True', 'fit_intercept': 'True', 'normalize': 'True'}\n",
      "\n",
      "KNeighborsClassifier\n",
      "--------------------\n",
      "Best Score: 0.013013698630136985\n",
      "Best Parameters: {'algorithm': 'ball_tree', 'n_neighbors': 19, 'p': 2, 'weights': 'uniform'}\n",
      "\n",
      "RandomForestRegressor\n",
      "---------------------\n",
      "Best Score: 0.8105442758812351\n",
      "Best Parameters: {'bootstrap': False, 'max_features': 'sqrt', 'min_samples_split': 4, 'n_estimators': 30}\n",
      "\n"
     ]
    }
   ],
   "source": [
    "#Getting the results from the model using the columns found in the previous step.\n",
    "result = select_model(x_train,cols)"
   ]
  },
  {
   "cell_type": "markdown",
   "id": "7dfd9163",
   "metadata": {},
   "source": [
    "Based on the result, the model with the best score is Random Forest Regressor. The optimal hyperparameters for this model are:\n",
    "\n",
    "- bootstrap='False'\n",
    "- max_features='sqrt'\n",
    "- min_samples_split= 4\n",
    "- n_estimators= 30\n",
    "\n",
    "I will use the above model to make a prediction for the test set."
   ]
  },
  {
   "cell_type": "code",
   "execution_count": 22,
   "id": "5864b384",
   "metadata": {},
   "outputs": [],
   "source": [
    "all_X=x_train.drop(['SalePrice'],axis=1)\n",
    "x_test=x_test.drop(['SalePrice'],axis=1)\n",
    "knn=RandomForestRegressor(bootstrap= False, max_features= 'sqrt', min_samples_split= 8, n_estimators= 30)\n",
    "knn.fit(all_X,y_train)\n",
    "predictions=knn.predict(x_test)"
   ]
  },
  {
   "cell_type": "code",
   "execution_count": 23,
   "id": "b1ea2adf",
   "metadata": {},
   "outputs": [
    {
     "data": {
      "text/plain": [
       "array([130793.50793651, 159131.42857143, 173889.81746032, ...,\n",
       "       177294.53507937, 140424.94285714, 245622.84126984])"
      ]
     },
     "execution_count": 23,
     "metadata": {},
     "output_type": "execute_result"
    }
   ],
   "source": [
    "#Printing out the predictions\n",
    "predictions"
   ]
  },
  {
   "cell_type": "code",
   "execution_count": 25,
   "id": "f4284cd9",
   "metadata": {},
   "outputs": [],
   "source": [
    "#Submitting the data\n",
    "sub = pd.DataFrame()\n",
    "sub['Id'] = holdout['Id']\n",
    "sub['SalePrice'] = predictions\n",
    "sub.to_csv('khanhmai.csv',index=False)"
   ]
  }
 ],
 "metadata": {
  "kernelspec": {
   "display_name": "Python 3",
   "language": "python",
   "name": "python3"
  },
  "language_info": {
   "codemirror_mode": {
    "name": "ipython",
    "version": 3
   },
   "file_extension": ".py",
   "mimetype": "text/x-python",
   "name": "python",
   "nbconvert_exporter": "python",
   "pygments_lexer": "ipython3",
   "version": "3.8.8"
  }
 },
 "nbformat": 4,
 "nbformat_minor": 5
}
